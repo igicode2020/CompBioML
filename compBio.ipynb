{
 "cells": [
  {
   "cell_type": "markdown",
   "source": [
    "<h1>CompBio - CardioToxicity</h1>"
   ],
   "metadata": {
    "collapsed": false
   },
   "id": "b086e6d98075543"
  },
  {
   "cell_type": "markdown",
   "source": [
    "<hr>\n",
    "<h3>Install Libraries</h3>"
   ],
   "metadata": {
    "collapsed": false
   },
   "id": "a2167aa5820a5db4"
  },
  {
   "cell_type": "code",
   "outputs": [
    {
     "name": "stdout",
     "output_type": "stream",
     "text": [
      "Requirement already satisfied: tensorflow in /Users/alexanderokenczyc/anaconda3/envs/EnvTensor/lib/python3.10/site-packages (2.16.2)\r\n",
      "Requirement already satisfied: absl-py>=1.0.0 in /Users/alexanderokenczyc/anaconda3/envs/EnvTensor/lib/python3.10/site-packages (from tensorflow) (1.4.0)\r\n",
      "Requirement already satisfied: astunparse>=1.6.0 in /Users/alexanderokenczyc/anaconda3/envs/EnvTensor/lib/python3.10/site-packages (from tensorflow) (1.6.3)\r\n",
      "Requirement already satisfied: flatbuffers>=23.5.26 in /Users/alexanderokenczyc/anaconda3/envs/EnvTensor/lib/python3.10/site-packages (from tensorflow) (24.3.25)\r\n",
      "Requirement already satisfied: gast!=0.5.0,!=0.5.1,!=0.5.2,>=0.2.1 in /Users/alexanderokenczyc/anaconda3/envs/EnvTensor/lib/python3.10/site-packages (from tensorflow) (0.4.0)\r\n",
      "Requirement already satisfied: google-pasta>=0.1.1 in /Users/alexanderokenczyc/anaconda3/envs/EnvTensor/lib/python3.10/site-packages (from tensorflow) (0.2.0)\r\n",
      "Requirement already satisfied: h5py>=3.10.0 in /Users/alexanderokenczyc/anaconda3/envs/EnvTensor/lib/python3.10/site-packages (from tensorflow) (3.11.0)\r\n",
      "Requirement already satisfied: libclang>=13.0.0 in /Users/alexanderokenczyc/anaconda3/envs/EnvTensor/lib/python3.10/site-packages (from tensorflow) (18.1.1)\r\n",
      "Requirement already satisfied: ml-dtypes~=0.3.1 in /Users/alexanderokenczyc/anaconda3/envs/EnvTensor/lib/python3.10/site-packages (from tensorflow) (0.3.2)\r\n",
      "Requirement already satisfied: opt-einsum>=2.3.2 in /Users/alexanderokenczyc/anaconda3/envs/EnvTensor/lib/python3.10/site-packages (from tensorflow) (3.3.0)\r\n",
      "Requirement already satisfied: packaging in /Users/alexanderokenczyc/anaconda3/envs/EnvTensor/lib/python3.10/site-packages (from tensorflow) (23.1)\r\n",
      "Requirement already satisfied: protobuf!=4.21.0,!=4.21.1,!=4.21.2,!=4.21.3,!=4.21.4,!=4.21.5,<5.0.0dev,>=3.20.3 in /Users/alexanderokenczyc/anaconda3/envs/EnvTensor/lib/python3.10/site-packages (from tensorflow) (4.25.3)\r\n",
      "Requirement already satisfied: requests<3,>=2.21.0 in /Users/alexanderokenczyc/anaconda3/envs/EnvTensor/lib/python3.10/site-packages (from tensorflow) (2.31.0)\r\n",
      "Requirement already satisfied: setuptools in /Users/alexanderokenczyc/anaconda3/envs/EnvTensor/lib/python3.10/site-packages (from tensorflow) (68.2.2)\r\n",
      "Requirement already satisfied: six>=1.12.0 in /Users/alexanderokenczyc/anaconda3/envs/EnvTensor/lib/python3.10/site-packages (from tensorflow) (1.16.0)\r\n",
      "Requirement already satisfied: termcolor>=1.1.0 in /Users/alexanderokenczyc/anaconda3/envs/EnvTensor/lib/python3.10/site-packages (from tensorflow) (2.1.0)\r\n",
      "Requirement already satisfied: typing-extensions>=3.6.6 in /Users/alexanderokenczyc/anaconda3/envs/EnvTensor/lib/python3.10/site-packages (from tensorflow) (4.7.1)\r\n",
      "Requirement already satisfied: wrapt>=1.11.0 in /Users/alexanderokenczyc/anaconda3/envs/EnvTensor/lib/python3.10/site-packages (from tensorflow) (1.14.1)\r\n",
      "Requirement already satisfied: grpcio<2.0,>=1.24.3 in /Users/alexanderokenczyc/anaconda3/envs/EnvTensor/lib/python3.10/site-packages (from tensorflow) (1.64.1)\r\n",
      "Requirement already satisfied: tensorboard<2.17,>=2.16 in /Users/alexanderokenczyc/anaconda3/envs/EnvTensor/lib/python3.10/site-packages (from tensorflow) (2.16.2)\r\n",
      "Requirement already satisfied: keras>=3.0.0 in /Users/alexanderokenczyc/anaconda3/envs/EnvTensor/lib/python3.10/site-packages (from tensorflow) (3.4.1)\r\n",
      "Requirement already satisfied: tensorflow-io-gcs-filesystem>=0.23.1 in /Users/alexanderokenczyc/anaconda3/envs/EnvTensor/lib/python3.10/site-packages (from tensorflow) (0.37.1)\r\n",
      "Requirement already satisfied: numpy<2.0.0,>=1.23.5 in /Users/alexanderokenczyc/anaconda3/envs/EnvTensor/lib/python3.10/site-packages (from tensorflow) (1.26.2)\r\n",
      "Requirement already satisfied: wheel<1.0,>=0.23.0 in /Users/alexanderokenczyc/anaconda3/envs/EnvTensor/lib/python3.10/site-packages (from astunparse>=1.6.0->tensorflow) (0.35.1)\r\n",
      "Requirement already satisfied: rich in /Users/alexanderokenczyc/anaconda3/envs/EnvTensor/lib/python3.10/site-packages (from keras>=3.0.0->tensorflow) (13.7.1)\r\n",
      "Requirement already satisfied: namex in /Users/alexanderokenczyc/anaconda3/envs/EnvTensor/lib/python3.10/site-packages (from keras>=3.0.0->tensorflow) (0.0.8)\r\n",
      "Requirement already satisfied: optree in /Users/alexanderokenczyc/anaconda3/envs/EnvTensor/lib/python3.10/site-packages (from keras>=3.0.0->tensorflow) (0.12.0)\r\n",
      "Requirement already satisfied: charset-normalizer<4,>=2 in /Users/alexanderokenczyc/anaconda3/envs/EnvTensor/lib/python3.10/site-packages (from requests<3,>=2.21.0->tensorflow) (2.0.4)\r\n",
      "Requirement already satisfied: idna<4,>=2.5 in /Users/alexanderokenczyc/anaconda3/envs/EnvTensor/lib/python3.10/site-packages (from requests<3,>=2.21.0->tensorflow) (3.4)\r\n",
      "Requirement already satisfied: urllib3<3,>=1.21.1 in /Users/alexanderokenczyc/anaconda3/envs/EnvTensor/lib/python3.10/site-packages (from requests<3,>=2.21.0->tensorflow) (1.26.18)\r\n",
      "Requirement already satisfied: certifi>=2017.4.17 in /Users/alexanderokenczyc/anaconda3/envs/EnvTensor/lib/python3.10/site-packages (from requests<3,>=2.21.0->tensorflow) (2023.11.17)\r\n",
      "Requirement already satisfied: markdown>=2.6.8 in /Users/alexanderokenczyc/anaconda3/envs/EnvTensor/lib/python3.10/site-packages (from tensorboard<2.17,>=2.16->tensorflow) (3.4.1)\r\n",
      "Requirement already satisfied: tensorboard-data-server<0.8.0,>=0.7.0 in /Users/alexanderokenczyc/anaconda3/envs/EnvTensor/lib/python3.10/site-packages (from tensorboard<2.17,>=2.16->tensorflow) (0.7.2)\r\n",
      "Requirement already satisfied: werkzeug>=1.0.1 in /Users/alexanderokenczyc/anaconda3/envs/EnvTensor/lib/python3.10/site-packages (from tensorboard<2.17,>=2.16->tensorflow) (3.0.3)\r\n",
      "Requirement already satisfied: MarkupSafe>=2.1.1 in /Users/alexanderokenczyc/anaconda3/envs/EnvTensor/lib/python3.10/site-packages (from werkzeug>=1.0.1->tensorboard<2.17,>=2.16->tensorflow) (2.1.3)\r\n",
      "Requirement already satisfied: markdown-it-py>=2.2.0 in /Users/alexanderokenczyc/anaconda3/envs/EnvTensor/lib/python3.10/site-packages (from rich->keras>=3.0.0->tensorflow) (3.0.0)\r\n",
      "Requirement already satisfied: pygments<3.0.0,>=2.13.0 in /Users/alexanderokenczyc/anaconda3/envs/EnvTensor/lib/python3.10/site-packages (from rich->keras>=3.0.0->tensorflow) (2.15.1)\r\n",
      "Requirement already satisfied: mdurl~=0.1 in /Users/alexanderokenczyc/anaconda3/envs/EnvTensor/lib/python3.10/site-packages (from markdown-it-py>=2.2.0->rich->keras>=3.0.0->tensorflow) (0.1.2)\r\n",
      "Requirement already satisfied: matplotlib in /Users/alexanderokenczyc/anaconda3/envs/EnvTensor/lib/python3.10/site-packages (3.8.0)\r\n",
      "Requirement already satisfied: contourpy>=1.0.1 in /Users/alexanderokenczyc/anaconda3/envs/EnvTensor/lib/python3.10/site-packages (from matplotlib) (1.2.0)\r\n",
      "Requirement already satisfied: cycler>=0.10 in /Users/alexanderokenczyc/anaconda3/envs/EnvTensor/lib/python3.10/site-packages (from matplotlib) (0.11.0)\r\n",
      "Requirement already satisfied: fonttools>=4.22.0 in /Users/alexanderokenczyc/anaconda3/envs/EnvTensor/lib/python3.10/site-packages (from matplotlib) (4.25.0)\r\n",
      "Requirement already satisfied: kiwisolver>=1.0.1 in /Users/alexanderokenczyc/anaconda3/envs/EnvTensor/lib/python3.10/site-packages (from matplotlib) (1.4.4)\r\n",
      "Requirement already satisfied: numpy<2,>=1.21 in /Users/alexanderokenczyc/anaconda3/envs/EnvTensor/lib/python3.10/site-packages (from matplotlib) (1.26.2)\r\n",
      "Requirement already satisfied: packaging>=20.0 in /Users/alexanderokenczyc/anaconda3/envs/EnvTensor/lib/python3.10/site-packages (from matplotlib) (23.1)\r\n",
      "Requirement already satisfied: pillow>=6.2.0 in /Users/alexanderokenczyc/anaconda3/envs/EnvTensor/lib/python3.10/site-packages (from matplotlib) (10.0.1)\r\n",
      "Requirement already satisfied: pyparsing>=2.3.1 in /Users/alexanderokenczyc/anaconda3/envs/EnvTensor/lib/python3.10/site-packages (from matplotlib) (3.0.9)\r\n",
      "Requirement already satisfied: python-dateutil>=2.7 in /Users/alexanderokenczyc/anaconda3/envs/EnvTensor/lib/python3.10/site-packages (from matplotlib) (2.8.2)\r\n",
      "Requirement already satisfied: six>=1.5 in /Users/alexanderokenczyc/anaconda3/envs/EnvTensor/lib/python3.10/site-packages (from python-dateutil>=2.7->matplotlib) (1.16.0)\r\n",
      "Requirement already satisfied: numpy in /Users/alexanderokenczyc/anaconda3/envs/EnvTensor/lib/python3.10/site-packages (1.26.2)\r\n",
      "Collecting nnv\r\n",
      "  Downloading nnv-0.0.5-py3-none-any.whl.metadata (2.7 kB)\r\n",
      "Downloading nnv-0.0.5-py3-none-any.whl (4.9 kB)\r\n",
      "Installing collected packages: nnv\r\n",
      "Successfully installed nnv-0.0.5\r\n"
     ]
    }
   ],
   "source": [
    "!pip install tensorflow\n",
    "!pip install matplotlib\n",
    "!pip install numpy\n",
    "!pip install nnv\n",
    "!pip install tensorflow_datasets"
   ],
   "metadata": {
    "collapsed": false,
    "ExecuteTime": {
     "end_time": "2024-07-08T15:50:29.105546Z",
     "start_time": "2024-07-08T15:50:13.322207Z"
    }
   },
   "id": "50bfdf2bc7ddaea8",
   "execution_count": 2
  },
  {
   "cell_type": "markdown",
   "source": [
    "Import Libraries"
   ],
   "metadata": {
    "collapsed": false
   },
   "id": "3904fbc940f5f52b"
  },
  {
   "cell_type": "code",
   "outputs": [],
   "source": [
    "import tensorflow as tf\n",
    "from tensorflow import keras\n",
    "from tensorflow_datasets.core.utils.lazy_imports_utils import tensorflow as tf\n",
    "import tensorflow_datasets.public_api as tfds\n",
    "import matplotlib.pyplot as plt\n",
    "import numpy as np"
   ],
   "metadata": {
    "collapsed": false,
    "ExecuteTime": {
     "end_time": "2024-07-08T15:57:34.058711Z",
     "start_time": "2024-07-08T15:56:55.000558Z"
    }
   },
   "id": "b67a57ea51f63f13",
   "execution_count": 8
  },
  {
   "cell_type": "code",
   "outputs": [
    {
     "ename": "AttributeError",
     "evalue": "module 'keras.api.datasets' has no attribute 'cardiotox'",
     "output_type": "error",
     "traceback": [
      "\u001B[0;31m---------------------------------------------------------------------------\u001B[0m",
      "\u001B[0;31mAttributeError\u001B[0m                            Traceback (most recent call last)",
      "Cell \u001B[0;32mIn[5], line 1\u001B[0m\n\u001B[0;32m----> 1\u001B[0m cardioTox \u001B[38;5;241m=\u001B[39m \u001B[43mkeras\u001B[49m\u001B[38;5;241;43m.\u001B[39;49m\u001B[43mdatasets\u001B[49m\u001B[38;5;241;43m.\u001B[39;49m\u001B[43mcardiotox\u001B[49m\n\u001B[1;32m      2\u001B[0m (train_images, train_labels), (test_images, test_labels) \u001B[38;5;241m=\u001B[39m cardioTox\u001B[38;5;241m.\u001B[39mload_data()\n",
      "\u001B[0;31mAttributeError\u001B[0m: module 'keras.api.datasets' has no attribute 'cardiotox'"
     ]
    }
   ],
   "source": [
    "cardioTox = keras.datasets.cardiotox\n",
    "(train_images, train_labels), (test_images, test_labels) = cardioTox.load_data()"
   ],
   "metadata": {
    "collapsed": false,
    "ExecuteTime": {
     "end_time": "2024-07-08T15:54:36.257778Z",
     "start_time": "2024-07-08T15:54:32.623908Z"
    }
   },
   "id": "54d231a89df159a1",
   "execution_count": 5
  },
  {
   "cell_type": "code",
   "outputs": [
    {
     "ename": "IndentationError",
     "evalue": "unindent does not match any outer indentation level (<tokenize>, line 4)",
     "output_type": "error",
     "traceback": [
      "\u001B[0;36m  File \u001B[0;32m<tokenize>:4\u001B[0;36m\u001B[0m\n\u001B[0;31m    VERSION = tfds.core.Version('1.0.0')\u001B[0m\n\u001B[0m    ^\u001B[0m\n\u001B[0;31mIndentationError\u001B[0m\u001B[0;31m:\u001B[0m unindent does not match any outer indentation level\n"
     ]
    }
   ],
   "source": [],
   "metadata": {
    "collapsed": false,
    "ExecuteTime": {
     "end_time": "2024-07-08T15:58:39.984608Z",
     "start_time": "2024-07-08T15:58:39.819267Z"
    }
   },
   "id": "cdb68b102b8d4854",
   "execution_count": 11
  },
  {
   "cell_type": "markdown",
   "source": [
    "<h2>Citations</h2>"
   ],
   "metadata": {
    "collapsed": false
   },
   "id": "67b09263a1f8b8ad"
  },
  {
   "cell_type": "code",
   "outputs": [],
   "source": [
    "_CITATION = \"\"\"\n",
    "@ARTICLE{Han2021-tu,\n",
    "  title         = \"Reliable Graph Neural Networks for Drug Discovery Under\n",
    "                   Distributional Shift\",\n",
    "  author        = \"Han, Kehang and Lakshminarayanan, Balaji and Liu, Jeremiah\",\n",
    "  month         =  nov,\n",
    "  year          =  2021,\n",
    "  archivePrefix = \"arXiv\",\n",
    "  primaryClass  = \"cs.LG\",\n",
    "  eprint        = \"2111.12951\"\n",
    "}\n",
    "\n",
    "\"\"\""
   ],
   "metadata": {
    "collapsed": false,
    "ExecuteTime": {
     "end_time": "2024-07-08T15:55:21.343902Z",
     "start_time": "2024-07-08T15:55:21.283570Z"
    }
   },
   "id": "547c5637874a7f1d",
   "execution_count": 6
  },
  {
   "cell_type": "code",
   "outputs": [],
   "source": [],
   "metadata": {
    "collapsed": false
   },
   "id": "aae2bbfd90720eed"
  }
 ],
 "metadata": {
  "kernelspec": {
   "display_name": "Python 3",
   "language": "python",
   "name": "python3"
  },
  "language_info": {
   "codemirror_mode": {
    "name": "ipython",
    "version": 2
   },
   "file_extension": ".py",
   "mimetype": "text/x-python",
   "name": "python",
   "nbconvert_exporter": "python",
   "pygments_lexer": "ipython2",
   "version": "2.7.6"
  }
 },
 "nbformat": 4,
 "nbformat_minor": 5
}
